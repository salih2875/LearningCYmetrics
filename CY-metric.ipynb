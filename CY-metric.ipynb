{
 "cells": [
  {
   "cell_type": "code",
   "execution_count": 33,
   "id": "c3e01667",
   "metadata": {},
   "outputs": [],
   "source": [
    "import numpy as np\n",
    "import os as os\n",
    "import pickle as pickle\n",
    "import tensorflow as tf\n",
    "tfk = tf.keras"
   ]
  },
  {
   "cell_type": "markdown",
   "id": "42b4d6d4",
   "metadata": {},
   "source": [
    "Generate points of our CY manifold X (in this case X - fermat quintic) "
   ]
  },
  {
   "cell_type": "code",
   "execution_count": 34,
   "id": "c9898e5f",
   "metadata": {},
   "outputs": [],
   "source": [
    "from cymetric.pointgen.pointgen import PointGenerator\n",
    "\n",
    "monomials = 5*np.eye(5, dtype=np.int64)\n",
    "coefficients = np.ones(5)\n",
    "kmoduli = np.ones(1)\n",
    "ambient = np.array([4])\n",
    "\n",
    "pg = PointGenerator(monomials, coefficients, kmoduli, ambient)"
   ]
  },
  {
   "cell_type": "markdown",
   "id": "84c183f6",
   "metadata": {},
   "source": [
    "Creating dataset for neural network"
   ]
  },
  {
   "cell_type": "code",
   "execution_count": 35,
   "id": "2f17d1d6",
   "metadata": {},
   "outputs": [
    {
     "name": "stderr",
     "output_type": "stream",
     "text": [
      "pointgen:INFO:Vol_k: 5.000000000000001, Vol_cy: 284.26406800526263.\n"
     ]
    }
   ],
   "source": [
    "dirname = 'fermat_points'\n",
    "n_p = 100000 # we will generate 100k points \n",
    "kappa = pg.prepare_dataset(n_p, dirname) # volume of CY over"
   ]
  },
  {
   "cell_type": "code",
   "execution_count": 36,
   "id": "86b6c8ac",
   "metadata": {},
   "outputs": [],
   "source": [
    "data = np.load(os.path.join(dirname, 'dataset.npz'))"
   ]
  },
  {
   "cell_type": "markdown",
   "id": "a090a85f",
   "metadata": {},
   "source": [
    "Information about basis, coefficients, etc. of monomials and their derivatives + other relevant info that we will pass to our model"
   ]
  },
  {
   "cell_type": "code",
   "execution_count": 37,
   "id": "ad099167",
   "metadata": {
    "scrolled": true
   },
   "outputs": [
    {
     "data": {
      "text/plain": [
       "0"
      ]
     },
     "execution_count": 37,
     "metadata": {},
     "output_type": "execute_result"
    }
   ],
   "source": [
    "pg.prepare_basis(dirname, kappa=kappa)"
   ]
  },
  {
   "cell_type": "code",
   "execution_count": 38,
   "id": "9c1c919d",
   "metadata": {},
   "outputs": [],
   "source": [
    "BASIS = np.load(os.path.join(dirname, 'basis.pickle'), allow_pickle=True)\n",
    "from cymetric.models.tfhelper import prepare_tf_basis, train_model\n",
    "BASIS = prepare_tf_basis(BASIS)"
   ]
  },
  {
   "cell_type": "code",
   "execution_count": 39,
   "id": "b4b4a91d",
   "metadata": {},
   "outputs": [
    {
     "data": {
      "text/plain": [
       "0.017589279"
      ]
     },
     "execution_count": 39,
     "metadata": {},
     "output_type": "execute_result"
    }
   ],
   "source": [
    "kappa = np.real(BASIS['KAPPA'].numpy());\n",
    "kappa"
   ]
  },
  {
   "cell_type": "markdown",
   "id": "1a1e100a",
   "metadata": {},
   "source": [
    "Ricci measure shows how close to zero the ricci scalar is "
   ]
  },
  {
   "cell_type": "code",
   "execution_count": 40,
   "id": "98ab46a5",
   "metadata": {},
   "outputs": [],
   "source": [
    "from cymetric.models.callbacks import RicciCallback\n",
    "rcb = RicciCallback((data['X_val'], data['y_val']), data['val_pullbacks'])\n",
    "cb_list = [rcb]\n"
   ]
  },
  {
   "cell_type": "markdown",
   "id": "9a2e32a1",
   "metadata": {},
   "source": [
    "Hyperparameteres"
   ]
  },
  {
   "cell_type": "code",
   "execution_count": 41,
   "id": "6528db4a",
   "metadata": {},
   "outputs": [],
   "source": [
    "nlayer = 3\n",
    "nHidden = 64\n",
    "act = 'gelu'\n",
    "nEpochs = 50\n",
    "bSizes = [64, 50000]\n",
    "alpha = [1., 1., 1., 1., 1.]\n",
    "nfold = 3\n",
    "n_in = 2*5\n",
    "n_out = nfold**2"
   ]
  },
  {
   "cell_type": "markdown",
   "id": "1fcfd577",
   "metadata": {},
   "source": [
    "Neural net"
   ]
  },
  {
   "cell_type": "code",
   "execution_count": 42,
   "id": "b4a9f5b9",
   "metadata": {},
   "outputs": [],
   "source": [
    "nn = tf.keras.Sequential()\n",
    "nn.add(tfk.Input(shape=(n_in)))\n",
    "for i in range(nlayer):\n",
    "    nn.add(tfk.layers.Dense(nHidden, activation=act))\n",
    "nn.add(tfk.layers.Dense(n_out, use_bias=False))"
   ]
  },
  {
   "cell_type": "code",
   "execution_count": 44,
   "id": "655c2e76",
   "metadata": {},
   "outputs": [],
   "source": [
    "from cymetric.models.tfmodels import MultFSModel\n",
    "nnmetric = MultFSModel(nn, BASIS, alpha=alpha) "
   ]
  },
  {
   "cell_type": "code",
   "execution_count": 45,
   "id": "ded4c574",
   "metadata": {},
   "outputs": [],
   "source": [
    "from cymetric.models.metrics import SigmaLoss, KaehlerLoss, TransitionLoss, VolkLoss, RicciLoss, TotalLoss\n",
    "\n",
    "cmetrics = [TotalLoss(), SigmaLoss(), KaehlerLoss(), TransitionLoss(), VolkLoss(), RicciLoss()]\n",
    "opt = tfk.optimizers.Adam()"
   ]
  },
  {
   "cell_type": "code",
   "execution_count": 46,
   "id": "95b0b1e0",
   "metadata": {},
   "outputs": [
    {
     "name": "stdout",
     "output_type": "stream",
     "text": [
      "\n",
      "Epoch  1/50\n"
     ]
    },
    {
     "name": "stderr",
     "output_type": "stream",
     "text": [
      "C:\\Users\\Salih\\anaconda3\\envs\\cymetric\\lib\\site-packages\\tensorflow\\python\\framework\\indexed_slices.py:444: UserWarning: Converting sparse IndexedSlices(IndexedSlices(indices=Tensor(\"gradients/GatherV2_5_grad/Reshape_1:0\", shape=(None,), dtype=int64), values=Tensor(\"gradients/GatherV2_5_grad/Reshape:0\", shape=(None,), dtype=complex64), dense_shape=Tensor(\"gradients/GatherV2_5_grad/Cast:0\", shape=(1,), dtype=int32))) to a dense Tensor of unknown shape. This may consume a large amount of memory.\n",
      "  warnings.warn(\n",
      "C:\\Users\\Salih\\anaconda3\\envs\\cymetric\\lib\\site-packages\\tensorflow\\python\\framework\\indexed_slices.py:444: UserWarning: Converting sparse IndexedSlices(IndexedSlices(indices=Tensor(\"gradients/GatherV2_4_grad/Reshape_1:0\", shape=(None,), dtype=int64), values=Tensor(\"gradients/GatherV2_4_grad/Reshape:0\", shape=(None,), dtype=complex64), dense_shape=Tensor(\"gradients/GatherV2_4_grad/Cast:0\", shape=(1,), dtype=int32))) to a dense Tensor of unknown shape. This may consume a large amount of memory.\n",
      "  warnings.warn(\n",
      "C:\\Users\\Salih\\anaconda3\\envs\\cymetric\\lib\\site-packages\\tensorflow\\python\\framework\\indexed_slices.py:444: UserWarning: Converting sparse IndexedSlices(IndexedSlices(indices=Tensor(\"gradients/PartitionedCall_5_grad/PartitionedCall:1\", shape=(None,), dtype=int64), values=Tensor(\"gradients/PartitionedCall_5_grad/PartitionedCall:0\", shape=(None, 5), dtype=complex64), dense_shape=Tensor(\"gradients/PartitionedCall_5_grad/PartitionedCall:2\", shape=(2,), dtype=int32))) to a dense Tensor of unknown shape. This may consume a large amount of memory.\n",
      "  warnings.warn(\n"
     ]
    },
    {
     "name": "stdout",
     "output_type": "stream",
     "text": [
      "1407/1407 [==============================] - 52s 11ms/step - loss: 0.1911 - sigma_loss: 0.1733 - kaehler_loss: 0.0054 - transition_loss: 0.0123 - volk_loss: 0.0000e+00 - ricci_loss: 0.0000e+00\n",
      "2/2 [==============================] - ETA: 0s - loss: 0.1512 - sigma_loss: 0.1177 - kaehler_loss: 0.0000e+00 - transition_loss: 0.0000e+00 - volk_loss: 0.0335 - ricci_loss: 0.0000e+00 - Ricci measure val:      1.2342\n",
      "2/2 [==============================] - 18s 16s/step - loss: 0.1512 - sigma_loss: 0.1177 - kaehler_loss: 0.0000e+00 - transition_loss: 0.0000e+00 - volk_loss: 0.0335 - ricci_loss: 0.0000e+00 - ricci_val: 1.2342\n",
      "\n",
      "Epoch  2/50\n",
      "1407/1407 [==============================] - 20s 10ms/step - loss: 0.1057 - sigma_loss: 0.0930 - kaehler_loss: 0.0061 - transition_loss: 0.0066 - volk_loss: 0.0000e+00 - ricci_loss: 0.0000e+00\n",
      "2/2 [==============================] - ETA: 0s - loss: 0.3769 - sigma_loss: 0.0946 - kaehler_loss: 0.0000e+00 - transition_loss: 0.0000e+00 - volk_loss: 0.2823 - ricci_loss: 0.0000e+00 - Ricci measure val:      1.0526\n",
      "2/2 [==============================] - 2s 1s/step - loss: 0.3769 - sigma_loss: 0.0946 - kaehler_loss: 0.0000e+00 - transition_loss: 0.0000e+00 - volk_loss: 0.2823 - ricci_loss: 0.0000e+00 - ricci_val: 1.0526\n",
      "\n",
      "Epoch  3/50\n",
      "1407/1407 [==============================] - 24s 13ms/step - loss: 0.0974 - sigma_loss: 0.0893 - kaehler_loss: 0.0049 - transition_loss: 0.0032 - volk_loss: 0.0000e+00 - ricci_loss: 0.0000e+00\n",
      "2/2 [==============================] - ETA: 0s - loss: 0.1900 - sigma_loss: 0.0908 - kaehler_loss: 0.0000e+00 - transition_loss: 0.0000e+00 - volk_loss: 0.0992 - ricci_loss: 0.0000e+00 - Ricci measure val:      1.0955\n",
      "2/2 [==============================] - 2s 1s/step - loss: 0.1900 - sigma_loss: 0.0908 - kaehler_loss: 0.0000e+00 - transition_loss: 0.0000e+00 - volk_loss: 0.0992 - ricci_loss: 0.0000e+00 - ricci_val: 1.0955\n",
      "\n",
      "Epoch  4/50\n",
      "1407/1407 [==============================] - 26s 14ms/step - loss: 0.0956 - sigma_loss: 0.0880 - kaehler_loss: 0.0047 - transition_loss: 0.0028 - volk_loss: 0.0000e+00 - ricci_loss: 0.0000e+00\n",
      "2/2 [==============================] - ETA: 0s - loss: 0.3339 - sigma_loss: 0.0893 - kaehler_loss: 0.0000e+00 - transition_loss: 0.0000e+00 - volk_loss: 0.2446 - ricci_loss: 0.0000e+00 - Ricci measure val:      1.1043\n",
      "2/2 [==============================] - 2s 1s/step - loss: 0.3339 - sigma_loss: 0.0893 - kaehler_loss: 0.0000e+00 - transition_loss: 0.0000e+00 - volk_loss: 0.2446 - ricci_loss: 0.0000e+00 - ricci_val: 1.1043\n",
      "\n",
      "Epoch  5/50\n",
      "1407/1407 [==============================] - 28s 16ms/step - loss: 0.0951 - sigma_loss: 0.0877 - kaehler_loss: 0.0047 - transition_loss: 0.0027 - volk_loss: 0.0000e+00 - ricci_loss: 0.0000e+00\n",
      "2/2 [==============================] - ETA: 0s - loss: 0.1812 - sigma_loss: 0.0846 - kaehler_loss: 0.0000e+00 - transition_loss: 0.0000e+00 - volk_loss: 0.0966 - ricci_loss: 0.0000e+00 - Ricci measure val:      1.1178\n",
      "2/2 [==============================] - 2s 1s/step - loss: 0.1812 - sigma_loss: 0.0846 - kaehler_loss: 0.0000e+00 - transition_loss: 0.0000e+00 - volk_loss: 0.0966 - ricci_loss: 0.0000e+00 - ricci_val: 1.1178\n",
      "\n",
      "Epoch  6/50\n",
      "1407/1407 [==============================] - 28s 16ms/step - loss: 0.0938 - sigma_loss: 0.0864 - kaehler_loss: 0.0048 - transition_loss: 0.0026 - volk_loss: 0.0000e+00 - ricci_loss: 0.0000e+00\n",
      "2/2 [==============================] - ETA: 0s - loss: 0.1862 - sigma_loss: 0.1069 - kaehler_loss: 0.0000e+00 - transition_loss: 0.0000e+00 - volk_loss: 0.0793 - ricci_loss: 0.0000e+00 - Ricci measure val:      1.0655\n",
      "2/2 [==============================] - 2s 1s/step - loss: 0.1862 - sigma_loss: 0.1069 - kaehler_loss: 0.0000e+00 - transition_loss: 0.0000e+00 - volk_loss: 0.0793 - ricci_loss: 0.0000e+00 - ricci_val: 1.0655\n",
      "\n",
      "Epoch  7/50\n",
      "1407/1407 [==============================] - 29s 16ms/step - loss: 0.0927 - sigma_loss: 0.0853 - kaehler_loss: 0.0049 - transition_loss: 0.0025 - volk_loss: 0.0000e+00 - ricci_loss: 0.0000e+00\n",
      "2/2 [==============================] - ETA: 0s - loss: 0.3150 - sigma_loss: 0.0824 - kaehler_loss: 0.0000e+00 - transition_loss: 0.0000e+00 - volk_loss: 0.2326 - ricci_loss: 0.0000e+00 - Ricci measure val:      1.1042\n",
      "2/2 [==============================] - 3s 1s/step - loss: 0.3150 - sigma_loss: 0.0824 - kaehler_loss: 0.0000e+00 - transition_loss: 0.0000e+00 - volk_loss: 0.2326 - ricci_loss: 0.0000e+00 - ricci_val: 1.1042\n",
      "\n",
      "Epoch  8/50\n",
      "1407/1407 [==============================] - 34s 20ms/step - loss: 0.0919 - sigma_loss: 0.0845 - kaehler_loss: 0.0049 - transition_loss: 0.0025 - volk_loss: 0.0000e+00 - ricci_loss: 0.0000e+00\n",
      "2/2 [==============================] - ETA: 0s - loss: 0.2438 - sigma_loss: 0.0810 - kaehler_loss: 0.0000e+00 - transition_loss: 0.0000e+00 - volk_loss: 0.1628 - ricci_loss: 0.0000e+00 - Ricci measure val:      1.1131\n",
      "2/2 [==============================] - 3s 1s/step - loss: 0.2438 - sigma_loss: 0.0810 - kaehler_loss: 0.0000e+00 - transition_loss: 0.0000e+00 - volk_loss: 0.1628 - ricci_loss: 0.0000e+00 - ricci_val: 1.1131\n",
      "\n",
      "Epoch  9/50\n",
      "1407/1407 [==============================] - 35s 21ms/step - loss: 0.0903 - sigma_loss: 0.0829 - kaehler_loss: 0.0049 - transition_loss: 0.0024 - volk_loss: 0.0000e+00 - ricci_loss: 0.0000e+00\n",
      "2/2 [==============================] - ETA: 0s - loss: 0.2737 - sigma_loss: 0.0782 - kaehler_loss: 0.0000e+00 - transition_loss: 0.0000e+00 - volk_loss: 0.1955 - ricci_loss: 0.0000e+00 - Ricci measure val:      1.0622\n",
      "2/2 [==============================] - 3s 1s/step - loss: 0.2737 - sigma_loss: 0.0782 - kaehler_loss: 0.0000e+00 - transition_loss: 0.0000e+00 - volk_loss: 0.1955 - ricci_loss: 0.0000e+00 - ricci_val: 1.0622\n",
      "\n",
      "Epoch 10/50\n",
      "1407/1407 [==============================] - 36s 22ms/step - loss: 0.0894 - sigma_loss: 0.0820 - kaehler_loss: 0.0050 - transition_loss: 0.0024 - volk_loss: 0.0000e+00 - ricci_loss: 0.0000e+00\n",
      "2/2 [==============================] - ETA: 0s - loss: 0.1280 - sigma_loss: 0.0931 - kaehler_loss: 0.0000e+00 - transition_loss: 0.0000e+00 - volk_loss: 0.0349 - ricci_loss: 0.0000e+00 - Ricci measure val:      1.0143\n",
      "2/2 [==============================] - 4s 2s/step - loss: 0.1280 - sigma_loss: 0.0931 - kaehler_loss: 0.0000e+00 - transition_loss: 0.0000e+00 - volk_loss: 0.0349 - ricci_loss: 0.0000e+00 - ricci_val: 1.0143\n",
      "\n",
      "Epoch 11/50\n",
      "1407/1407 [==============================] - 35s 21ms/step - loss: 0.0882 - sigma_loss: 0.0808 - kaehler_loss: 0.0050 - transition_loss: 0.0024 - volk_loss: 0.0000e+00 - ricci_loss: 0.0000e+00\n",
      "2/2 [==============================] - ETA: 0s - loss: 0.3036 - sigma_loss: 0.0803 - kaehler_loss: 0.0000e+00 - transition_loss: 0.0000e+00 - volk_loss: 0.2233 - ricci_loss: 0.0000e+00 - Ricci measure val:      0.9461\n",
      "2/2 [==============================] - 3s 1s/step - loss: 0.3036 - sigma_loss: 0.0803 - kaehler_loss: 0.0000e+00 - transition_loss: 0.0000e+00 - volk_loss: 0.2233 - ricci_loss: 0.0000e+00 - ricci_val: 0.9461\n",
      "\n",
      "Epoch 12/50\n",
      "1407/1407 [==============================] - 34s 20ms/step - loss: 0.0868 - sigma_loss: 0.0794 - kaehler_loss: 0.0051 - transition_loss: 0.0023 - volk_loss: 0.0000e+00 - ricci_loss: 0.0000e+00\n",
      "2/2 [==============================] - ETA: 0s - loss: 0.2531 - sigma_loss: 0.0769 - kaehler_loss: 0.0000e+00 - transition_loss: 0.0000e+00 - volk_loss: 0.1762 - ricci_loss: 0.0000e+00 - Ricci measure val:      0.9258\n",
      "2/2 [==============================] - 3s 1s/step - loss: 0.2531 - sigma_loss: 0.0769 - kaehler_loss: 0.0000e+00 - transition_loss: 0.0000e+00 - volk_loss: 0.1762 - ricci_loss: 0.0000e+00 - ricci_val: 0.9258\n",
      "\n",
      "Epoch 13/50\n",
      "1407/1407 [==============================] - 35s 21ms/step - loss: 0.0858 - sigma_loss: 0.0785 - kaehler_loss: 0.0050 - transition_loss: 0.0023 - volk_loss: 0.0000e+00 - ricci_loss: 0.0000e+00\n",
      "2/2 [==============================] - ETA: 0s - loss: 0.2275 - sigma_loss: 0.0780 - kaehler_loss: 0.0000e+00 - transition_loss: 0.0000e+00 - volk_loss: 0.1495 - ricci_loss: 0.0000e+00 - Ricci measure val:      0.9203\n",
      "2/2 [==============================] - 3s 1s/step - loss: 0.2275 - sigma_loss: 0.0780 - kaehler_loss: 0.0000e+00 - transition_loss: 0.0000e+00 - volk_loss: 0.1495 - ricci_loss: 0.0000e+00 - ricci_val: 0.9203\n"
     ]
    },
    {
     "name": "stdout",
     "output_type": "stream",
     "text": [
      "\n",
      "Epoch 14/50\n",
      "1407/1407 [==============================] - 33s 19ms/step - loss: 0.0855 - sigma_loss: 0.0781 - kaehler_loss: 0.0050 - transition_loss: 0.0023 - volk_loss: 0.0000e+00 - ricci_loss: 0.0000e+00\n",
      "2/2 [==============================] - ETA: 0s - loss: 0.2514 - sigma_loss: 0.0788 - kaehler_loss: 0.0000e+00 - transition_loss: 0.0000e+00 - volk_loss: 0.1726 - ricci_loss: 0.0000e+00 - Ricci measure val:      0.9295\n",
      "2/2 [==============================] - 3s 1s/step - loss: 0.2514 - sigma_loss: 0.0788 - kaehler_loss: 0.0000e+00 - transition_loss: 0.0000e+00 - volk_loss: 0.1726 - ricci_loss: 0.0000e+00 - ricci_val: 0.9295\n",
      "\n",
      "Epoch 15/50\n",
      "1407/1407 [==============================] - 33s 19ms/step - loss: 0.0841 - sigma_loss: 0.0768 - kaehler_loss: 0.0050 - transition_loss: 0.0023 - volk_loss: 0.0000e+00 - ricci_loss: 0.0000e+00\n",
      "2/2 [==============================] - ETA: 0s - loss: 0.2550 - sigma_loss: 0.0766 - kaehler_loss: 0.0000e+00 - transition_loss: 0.0000e+00 - volk_loss: 0.1784 - ricci_loss: 0.0000e+00 - Ricci measure val:      0.9305\n",
      "2/2 [==============================] - 3s 1s/step - loss: 0.2550 - sigma_loss: 0.0766 - kaehler_loss: 0.0000e+00 - transition_loss: 0.0000e+00 - volk_loss: 0.1784 - ricci_loss: 0.0000e+00 - ricci_val: 0.9305\n",
      "\n",
      "Epoch 16/50\n",
      "1407/1407 [==============================] - 33s 19ms/step - loss: 0.0831 - sigma_loss: 0.0757 - kaehler_loss: 0.0050 - transition_loss: 0.0024 - volk_loss: 0.0000e+00 - ricci_loss: 0.0000e+00\n",
      "2/2 [==============================] - ETA: 0s - loss: 0.2424 - sigma_loss: 0.0740 - kaehler_loss: 0.0000e+00 - transition_loss: 0.0000e+00 - volk_loss: 0.1684 - ricci_loss: 0.0000e+00 - Ricci measure val:      0.8721\n",
      "2/2 [==============================] - 3s 1s/step - loss: 0.2424 - sigma_loss: 0.0740 - kaehler_loss: 0.0000e+00 - transition_loss: 0.0000e+00 - volk_loss: 0.1684 - ricci_loss: 0.0000e+00 - ricci_val: 0.8721\n",
      "\n",
      "Epoch 17/50\n",
      "1407/1407 [==============================] - 33s 20ms/step - loss: 0.0827 - sigma_loss: 0.0754 - kaehler_loss: 0.0050 - transition_loss: 0.0024 - volk_loss: 0.0000e+00 - ricci_loss: 0.0000e+00\n",
      "2/2 [==============================] - ETA: 0s - loss: 0.1836 - sigma_loss: 0.0774 - kaehler_loss: 0.0000e+00 - transition_loss: 0.0000e+00 - volk_loss: 0.1061 - ricci_loss: 0.0000e+00 - Ricci measure val:      0.9285\n",
      "2/2 [==============================] - 3s 1s/step - loss: 0.1836 - sigma_loss: 0.0774 - kaehler_loss: 0.0000e+00 - transition_loss: 0.0000e+00 - volk_loss: 0.1061 - ricci_loss: 0.0000e+00 - ricci_val: 0.9285\n",
      "\n",
      "Epoch 18/50\n",
      "1407/1407 [==============================] - 33s 19ms/step - loss: 0.0822 - sigma_loss: 0.0748 - kaehler_loss: 0.0050 - transition_loss: 0.0024 - volk_loss: 0.0000e+00 - ricci_loss: 0.0000e+00\n",
      "2/2 [==============================] - ETA: 0s - loss: 0.1706 - sigma_loss: 0.0747 - kaehler_loss: 0.0000e+00 - transition_loss: 0.0000e+00 - volk_loss: 0.0959 - ricci_loss: 0.0000e+00 - Ricci measure val:      0.9078\n",
      "2/2 [==============================] - 3s 1s/step - loss: 0.1706 - sigma_loss: 0.0747 - kaehler_loss: 0.0000e+00 - transition_loss: 0.0000e+00 - volk_loss: 0.0959 - ricci_loss: 0.0000e+00 - ricci_val: 0.9078\n",
      "\n",
      "Epoch 19/50\n",
      "1407/1407 [==============================] - 33s 19ms/step - loss: 0.0814 - sigma_loss: 0.0740 - kaehler_loss: 0.0050 - transition_loss: 0.0024 - volk_loss: 0.0000e+00 - ricci_loss: 0.0000e+00\n",
      "2/2 [==============================] - ETA: 0s - loss: 0.2699 - sigma_loss: 0.0734 - kaehler_loss: 0.0000e+00 - transition_loss: 0.0000e+00 - volk_loss: 0.1964 - ricci_loss: 0.0000e+00 - Ricci measure val:      0.8798\n",
      "2/2 [==============================] - 3s 1s/step - loss: 0.2699 - sigma_loss: 0.0734 - kaehler_loss: 0.0000e+00 - transition_loss: 0.0000e+00 - volk_loss: 0.1964 - ricci_loss: 0.0000e+00 - ricci_val: 0.8798\n",
      "\n",
      "Epoch 20/50\n",
      "1407/1407 [==============================] - 33s 19ms/step - loss: 0.0812 - sigma_loss: 0.0737 - kaehler_loss: 0.0050 - transition_loss: 0.0024 - volk_loss: 0.0000e+00 - ricci_loss: 0.0000e+00\n",
      "2/2 [==============================] - ETA: 0s - loss: 0.1923 - sigma_loss: 0.0734 - kaehler_loss: 0.0000e+00 - transition_loss: 0.0000e+00 - volk_loss: 0.1189 - ricci_loss: 0.0000e+00 - Ricci measure val:      0.8444\n",
      "2/2 [==============================] - 3s 1s/step - loss: 0.1923 - sigma_loss: 0.0734 - kaehler_loss: 0.0000e+00 - transition_loss: 0.0000e+00 - volk_loss: 0.1189 - ricci_loss: 0.0000e+00 - ricci_val: 0.8444\n",
      "\n",
      "Epoch 21/50\n",
      "1407/1407 [==============================] - 33s 19ms/step - loss: 0.0808 - sigma_loss: 0.0734 - kaehler_loss: 0.0050 - transition_loss: 0.0025 - volk_loss: 0.0000e+00 - ricci_loss: 0.0000e+00\n",
      "2/2 [==============================] - ETA: 0s - loss: 0.2460 - sigma_loss: 0.0719 - kaehler_loss: 0.0000e+00 - transition_loss: 0.0000e+00 - volk_loss: 0.1740 - ricci_loss: 0.0000e+00 - Ricci measure val:      0.8330\n",
      "2/2 [==============================] - 3s 1s/step - loss: 0.2460 - sigma_loss: 0.0719 - kaehler_loss: 0.0000e+00 - transition_loss: 0.0000e+00 - volk_loss: 0.1740 - ricci_loss: 0.0000e+00 - ricci_val: 0.8330\n",
      "\n",
      "Epoch 22/50\n",
      "1407/1407 [==============================] - 33s 19ms/step - loss: 0.0804 - sigma_loss: 0.0728 - kaehler_loss: 0.0051 - transition_loss: 0.0025 - volk_loss: 0.0000e+00 - ricci_loss: 0.0000e+00\n",
      "2/2 [==============================] - ETA: 0s - loss: 0.2189 - sigma_loss: 0.0692 - kaehler_loss: 0.0000e+00 - transition_loss: 0.0000e+00 - volk_loss: 0.1497 - ricci_loss: 0.0000e+00 - Ricci measure val:      0.8442\n",
      "2/2 [==============================] - 3s 1s/step - loss: 0.2189 - sigma_loss: 0.0692 - kaehler_loss: 0.0000e+00 - transition_loss: 0.0000e+00 - volk_loss: 0.1497 - ricci_loss: 0.0000e+00 - ricci_val: 0.8442\n",
      "\n",
      "Epoch 23/50\n",
      "1407/1407 [==============================] - 33s 19ms/step - loss: 0.0803 - sigma_loss: 0.0728 - kaehler_loss: 0.0050 - transition_loss: 0.0025 - volk_loss: 0.0000e+00 - ricci_loss: 0.0000e+00\n",
      "2/2 [==============================] - ETA: 0s - loss: 0.3095 - sigma_loss: 0.0768 - kaehler_loss: 0.0000e+00 - transition_loss: 0.0000e+00 - volk_loss: 0.2327 - ricci_loss: 0.0000e+00 - Ricci measure val:      0.8256\n",
      "2/2 [==============================] - 3s 1s/step - loss: 0.3095 - sigma_loss: 0.0768 - kaehler_loss: 0.0000e+00 - transition_loss: 0.0000e+00 - volk_loss: 0.2327 - ricci_loss: 0.0000e+00 - ricci_val: 0.8256\n",
      "\n",
      "Epoch 24/50\n",
      "1407/1407 [==============================] - 33s 20ms/step - loss: 0.0791 - sigma_loss: 0.0715 - kaehler_loss: 0.0051 - transition_loss: 0.0025 - volk_loss: 0.0000e+00 - ricci_loss: 0.0000e+00\n",
      "2/2 [==============================] - ETA: 0s - loss: 0.2538 - sigma_loss: 0.0723 - kaehler_loss: 0.0000e+00 - transition_loss: 0.0000e+00 - volk_loss: 0.1815 - ricci_loss: 0.0000e+00 - Ricci measure val:      0.8165\n",
      "2/2 [==============================] - 3s 1s/step - loss: 0.2538 - sigma_loss: 0.0723 - kaehler_loss: 0.0000e+00 - transition_loss: 0.0000e+00 - volk_loss: 0.1815 - ricci_loss: 0.0000e+00 - ricci_val: 0.8165\n",
      "\n",
      "Epoch 25/50\n",
      "1407/1407 [==============================] - 33s 20ms/step - loss: 0.0784 - sigma_loss: 0.0706 - kaehler_loss: 0.0052 - transition_loss: 0.0025 - volk_loss: 0.0000e+00 - ricci_loss: 0.0000e+00\n",
      "2/2 [==============================] - ETA: 0s - loss: 0.2004 - sigma_loss: 0.0680 - kaehler_loss: 0.0000e+00 - transition_loss: 0.0000e+00 - volk_loss: 0.1323 - ricci_loss: 0.0000e+00 - Ricci measure val:      0.8242\n",
      "2/2 [==============================] - 3s 1s/step - loss: 0.2004 - sigma_loss: 0.0680 - kaehler_loss: 0.0000e+00 - transition_loss: 0.0000e+00 - volk_loss: 0.1323 - ricci_loss: 0.0000e+00 - ricci_val: 0.8242\n",
      "\n",
      "Epoch 26/50\n",
      "1407/1407 [==============================] - 33s 20ms/step - loss: 0.0775 - sigma_loss: 0.0697 - kaehler_loss: 0.0052 - transition_loss: 0.0025 - volk_loss: 0.0000e+00 - ricci_loss: 0.0000e+00\n",
      "2/2 [==============================] - ETA: 0s - loss: 0.1767 - sigma_loss: 0.0679 - kaehler_loss: 0.0000e+00 - transition_loss: 0.0000e+00 - volk_loss: 0.1088 - ricci_loss: 0.0000e+00 - Ricci measure val:      0.7963\n",
      "2/2 [==============================] - 3s 1s/step - loss: 0.1767 - sigma_loss: 0.0679 - kaehler_loss: 0.0000e+00 - transition_loss: 0.0000e+00 - volk_loss: 0.1088 - ricci_loss: 0.0000e+00 - ricci_val: 0.7963\n"
     ]
    },
    {
     "name": "stdout",
     "output_type": "stream",
     "text": [
      "\n",
      "Epoch 27/50\n",
      "1407/1407 [==============================] - 33s 20ms/step - loss: 0.0755 - sigma_loss: 0.0676 - kaehler_loss: 0.0053 - transition_loss: 0.0026 - volk_loss: 0.0000e+00 - ricci_loss: 0.0000e+00\n",
      "2/2 [==============================] - ETA: 0s - loss: 0.1711 - sigma_loss: 0.0691 - kaehler_loss: 0.0000e+00 - transition_loss: 0.0000e+00 - volk_loss: 0.1021 - ricci_loss: 0.0000e+00 - Ricci measure val:      0.7572\n",
      "2/2 [==============================] - 3s 1s/step - loss: 0.1711 - sigma_loss: 0.0691 - kaehler_loss: 0.0000e+00 - transition_loss: 0.0000e+00 - volk_loss: 0.1021 - ricci_loss: 0.0000e+00 - ricci_val: 0.7572\n",
      "\n",
      "Epoch 28/50\n",
      "1407/1407 [==============================] - 37s 21ms/step - loss: 0.0737 - sigma_loss: 0.0657 - kaehler_loss: 0.0054 - transition_loss: 0.0026 - volk_loss: 0.0000e+00 - ricci_loss: 0.0000e+00\n",
      "2/2 [==============================] - ETA: 0s - loss: 0.1853 - sigma_loss: 0.0671 - kaehler_loss: 0.0000e+00 - transition_loss: 0.0000e+00 - volk_loss: 0.1182 - ricci_loss: 0.0000e+00 - Ricci measure val:      0.6767\n",
      "2/2 [==============================] - 3s 1s/step - loss: 0.1853 - sigma_loss: 0.0671 - kaehler_loss: 0.0000e+00 - transition_loss: 0.0000e+00 - volk_loss: 0.1182 - ricci_loss: 0.0000e+00 - ricci_val: 0.6767\n",
      "\n",
      "Epoch 29/50\n",
      "1407/1407 [==============================] - 34s 20ms/step - loss: 0.0703 - sigma_loss: 0.0623 - kaehler_loss: 0.0055 - transition_loss: 0.0026 - volk_loss: 0.0000e+00 - ricci_loss: 0.0000e+00\n",
      "2/2 [==============================] - ETA: 0s - loss: 0.1097 - sigma_loss: 0.0624 - kaehler_loss: 0.0000e+00 - transition_loss: 0.0000e+00 - volk_loss: 0.0474 - ricci_loss: 0.0000e+00 - Ricci measure val:      0.6813\n",
      "2/2 [==============================] - 3s 1s/step - loss: 0.1097 - sigma_loss: 0.0624 - kaehler_loss: 0.0000e+00 - transition_loss: 0.0000e+00 - volk_loss: 0.0474 - ricci_loss: 0.0000e+00 - ricci_val: 0.6813\n",
      "\n",
      "Epoch 30/50\n",
      "1407/1407 [==============================] - 35s 20ms/step - loss: 0.0645 - sigma_loss: 0.0567 - kaehler_loss: 0.0054 - transition_loss: 0.0025 - volk_loss: 0.0000e+00 - ricci_loss: 0.0000e+00\n",
      "2/2 [==============================] - ETA: 0s - loss: 0.1707 - sigma_loss: 0.0507 - kaehler_loss: 0.0000e+00 - transition_loss: 0.0000e+00 - volk_loss: 0.1200 - ricci_loss: 0.0000e+00 - Ricci measure val:      0.5678\n",
      "2/2 [==============================] - 3s 1s/step - loss: 0.1707 - sigma_loss: 0.0507 - kaehler_loss: 0.0000e+00 - transition_loss: 0.0000e+00 - volk_loss: 0.1200 - ricci_loss: 0.0000e+00 - ricci_val: 0.5678\n",
      "\n",
      "Epoch 31/50\n",
      "1407/1407 [==============================] - 34s 20ms/step - loss: 0.0578 - sigma_loss: 0.0502 - kaehler_loss: 0.0053 - transition_loss: 0.0023 - volk_loss: 0.0000e+00 - ricci_loss: 0.0000e+00\n",
      "2/2 [==============================] - ETA: 0s - loss: 0.1945 - sigma_loss: 0.0494 - kaehler_loss: 0.0000e+00 - transition_loss: 0.0000e+00 - volk_loss: 0.1452 - ricci_loss: 0.0000e+00 - Ricci measure val:      0.4674\n",
      "2/2 [==============================] - 3s 1s/step - loss: 0.1945 - sigma_loss: 0.0494 - kaehler_loss: 0.0000e+00 - transition_loss: 0.0000e+00 - volk_loss: 0.1452 - ricci_loss: 0.0000e+00 - ricci_val: 0.4674\n",
      "\n",
      "Epoch 32/50\n",
      "1407/1407 [==============================] - 34s 20ms/step - loss: 0.0514 - sigma_loss: 0.0440 - kaehler_loss: 0.0053 - transition_loss: 0.0021 - volk_loss: 0.0000e+00 - ricci_loss: 0.0000e+00\n",
      "2/2 [==============================] - ETA: 0s - loss: 0.0957 - sigma_loss: 0.0433 - kaehler_loss: 0.0000e+00 - transition_loss: 0.0000e+00 - volk_loss: 0.0524 - ricci_loss: 0.0000e+00 - Ricci measure val:      0.4517\n",
      "2/2 [==============================] - 3s 1s/step - loss: 0.0957 - sigma_loss: 0.0433 - kaehler_loss: 0.0000e+00 - transition_loss: 0.0000e+00 - volk_loss: 0.0524 - ricci_loss: 0.0000e+00 - ricci_val: 0.4517\n",
      "\n",
      "Epoch 33/50\n",
      "1407/1407 [==============================] - 35s 21ms/step - loss: 0.0456 - sigma_loss: 0.0385 - kaehler_loss: 0.0052 - transition_loss: 0.0019 - volk_loss: 0.0000e+00 - ricci_loss: 0.0000e+00\n",
      "2/2 [==============================] - ETA: 0s - loss: 0.1758 - sigma_loss: 0.0379 - kaehler_loss: 0.0000e+00 - transition_loss: 0.0000e+00 - volk_loss: 0.1378 - ricci_loss: 0.0000e+00 - Ricci measure val:      0.3294\n",
      "2/2 [==============================] - 3s 1s/step - loss: 0.1758 - sigma_loss: 0.0379 - kaehler_loss: 0.0000e+00 - transition_loss: 0.0000e+00 - volk_loss: 0.1378 - ricci_loss: 0.0000e+00 - ricci_val: 0.3294\n",
      "\n",
      "Epoch 34/50\n",
      "1407/1407 [==============================] - 36s 21ms/step - loss: 0.0394 - sigma_loss: 0.0327 - kaehler_loss: 0.0049 - transition_loss: 0.0017 - volk_loss: 0.0000e+00 - ricci_loss: 0.0000e+00\n",
      "2/2 [==============================] - ETA: 0s - loss: 0.1269 - sigma_loss: 0.0309 - kaehler_loss: 0.0000e+00 - transition_loss: 0.0000e+00 - volk_loss: 0.0960 - ricci_loss: 0.0000e+00 - Ricci measure val:      0.2756\n",
      "2/2 [==============================] - 3s 1s/step - loss: 0.1269 - sigma_loss: 0.0309 - kaehler_loss: 0.0000e+00 - transition_loss: 0.0000e+00 - volk_loss: 0.0960 - ricci_loss: 0.0000e+00 - ricci_val: 0.2756\n",
      "\n",
      "Epoch 35/50\n",
      "1407/1407 [==============================] - 35s 20ms/step - loss: 0.0342 - sigma_loss: 0.0281 - kaehler_loss: 0.0045 - transition_loss: 0.0016 - volk_loss: 0.0000e+00 - ricci_loss: 0.0000e+00\n",
      "2/2 [==============================] - ETA: 0s - loss: 0.1106 - sigma_loss: 0.0269 - kaehler_loss: 0.0000e+00 - transition_loss: 0.0000e+00 - volk_loss: 0.0837 - ricci_loss: 0.0000e+00 - Ricci measure val:      0.2302\n",
      "2/2 [==============================] - 3s 1s/step - loss: 0.1106 - sigma_loss: 0.0269 - kaehler_loss: 0.0000e+00 - transition_loss: 0.0000e+00 - volk_loss: 0.0837 - ricci_loss: 0.0000e+00 - ricci_val: 0.2302\n",
      "\n",
      "Epoch 36/50\n",
      "1407/1407 [==============================] - 36s 21ms/step - loss: 0.0307 - sigma_loss: 0.0251 - kaehler_loss: 0.0041 - transition_loss: 0.0015 - volk_loss: 0.0000e+00 - ricci_loss: 0.0000e+00\n",
      "2/2 [==============================] - ETA: 0s - loss: 0.1148 - sigma_loss: 0.0269 - kaehler_loss: 0.0000e+00 - transition_loss: 0.0000e+00 - volk_loss: 0.0879 - ricci_loss: 0.0000e+00 - Ricci measure val:      0.1875\n",
      "2/2 [==============================] - 3s 1s/step - loss: 0.1148 - sigma_loss: 0.0269 - kaehler_loss: 0.0000e+00 - transition_loss: 0.0000e+00 - volk_loss: 0.0879 - ricci_loss: 0.0000e+00 - ricci_val: 0.1875\n",
      "\n",
      "Epoch 37/50\n",
      "1407/1407 [==============================] - 35s 21ms/step - loss: 0.0284 - sigma_loss: 0.0232 - kaehler_loss: 0.0038 - transition_loss: 0.0014 - volk_loss: 0.0000e+00 - ricci_loss: 0.0000e+00\n",
      "2/2 [==============================] - ETA: 0s - loss: 0.0700 - sigma_loss: 0.0292 - kaehler_loss: 0.0000e+00 - transition_loss: 0.0000e+00 - volk_loss: 0.0408 - ricci_loss: 0.0000e+00 - Ricci measure val:      0.1950\n",
      "2/2 [==============================] - 3s 1s/step - loss: 0.0700 - sigma_loss: 0.0292 - kaehler_loss: 0.0000e+00 - transition_loss: 0.0000e+00 - volk_loss: 0.0408 - ricci_loss: 0.0000e+00 - ricci_val: 0.1950\n",
      "\n",
      "Epoch 38/50\n",
      "1407/1407 [==============================] - 36s 22ms/step - loss: 0.0269 - sigma_loss: 0.0219 - kaehler_loss: 0.0036 - transition_loss: 0.0014 - volk_loss: 0.0000e+00 - ricci_loss: 0.0000e+00\n",
      "2/2 [==============================] - ETA: 0s - loss: 0.0764 - sigma_loss: 0.0236 - kaehler_loss: 0.0000e+00 - transition_loss: 0.0000e+00 - volk_loss: 0.0528 - ricci_loss: 0.0000e+00 - Ricci measure val:      0.1796\n",
      "2/2 [==============================] - 3s 1s/step - loss: 0.0764 - sigma_loss: 0.0236 - kaehler_loss: 0.0000e+00 - transition_loss: 0.0000e+00 - volk_loss: 0.0528 - ricci_loss: 0.0000e+00 - ricci_val: 0.1796\n",
      "\n",
      "Epoch 39/50\n",
      "1407/1407 [==============================] - 37s 21ms/step - loss: 0.0255 - sigma_loss: 0.0207 - kaehler_loss: 0.0035 - transition_loss: 0.0013 - volk_loss: 0.0000e+00 - ricci_loss: 0.0000e+00\n",
      "2/2 [==============================] - ETA: 0s - loss: 0.1085 - sigma_loss: 0.0210 - kaehler_loss: 0.0000e+00 - transition_loss: 0.0000e+00 - volk_loss: 0.0875 - ricci_loss: 0.0000e+00 - Ricci measure val:      0.1708\n",
      "2/2 [==============================] - 3s 2s/step - loss: 0.1085 - sigma_loss: 0.0210 - kaehler_loss: 0.0000e+00 - transition_loss: 0.0000e+00 - volk_loss: 0.0875 - ricci_loss: 0.0000e+00 - ricci_val: 0.1708\n"
     ]
    },
    {
     "name": "stdout",
     "output_type": "stream",
     "text": [
      "\n",
      "Epoch 40/50\n",
      "1407/1407 [==============================] - 38s 23ms/step - loss: 0.0241 - sigma_loss: 0.0194 - kaehler_loss: 0.0034 - transition_loss: 0.0013 - volk_loss: 0.0000e+00 - ricci_loss: 0.0000e+00\n",
      "2/2 [==============================] - ETA: 0s - loss: 0.0927 - sigma_loss: 0.0209 - kaehler_loss: 0.0000e+00 - transition_loss: 0.0000e+00 - volk_loss: 0.0718 - ricci_loss: 0.0000e+00 - Ricci measure val:      0.1510\n",
      "2/2 [==============================] - 3s 1s/step - loss: 0.0927 - sigma_loss: 0.0209 - kaehler_loss: 0.0000e+00 - transition_loss: 0.0000e+00 - volk_loss: 0.0718 - ricci_loss: 0.0000e+00 - ricci_val: 0.1510\n",
      "\n",
      "Epoch 41/50\n",
      "1407/1407 [==============================] - 37s 21ms/step - loss: 0.0238 - sigma_loss: 0.0192 - kaehler_loss: 0.0034 - transition_loss: 0.0013 - volk_loss: 0.0000e+00 - ricci_loss: 0.0000e+00\n",
      "2/2 [==============================] - ETA: 0s - loss: 0.0722 - sigma_loss: 0.0224 - kaehler_loss: 0.0000e+00 - transition_loss: 0.0000e+00 - volk_loss: 0.0499 - ricci_loss: 0.0000e+00 - Ricci measure val:      0.1542\n",
      "2/2 [==============================] - 3s 1s/step - loss: 0.0722 - sigma_loss: 0.0224 - kaehler_loss: 0.0000e+00 - transition_loss: 0.0000e+00 - volk_loss: 0.0499 - ricci_loss: 0.0000e+00 - ricci_val: 0.1542\n",
      "\n",
      "Epoch 42/50\n",
      "1407/1407 [==============================] - 39s 23ms/step - loss: 0.0229 - sigma_loss: 0.0183 - kaehler_loss: 0.0033 - transition_loss: 0.0013 - volk_loss: 0.0000e+00 - ricci_loss: 0.0000e+00\n",
      "2/2 [==============================] - ETA: 0s - loss: 0.1040 - sigma_loss: 0.0177 - kaehler_loss: 0.0000e+00 - transition_loss: 0.0000e+00 - volk_loss: 0.0862 - ricci_loss: 0.0000e+00 - Ricci measure val:      0.1495\n",
      "2/2 [==============================] - 3s 1s/step - loss: 0.1040 - sigma_loss: 0.0177 - kaehler_loss: 0.0000e+00 - transition_loss: 0.0000e+00 - volk_loss: 0.0862 - ricci_loss: 0.0000e+00 - ricci_val: 0.1495\n",
      "\n",
      "Epoch 43/50\n",
      "1407/1407 [==============================] - 37s 22ms/step - loss: 0.0222 - sigma_loss: 0.0177 - kaehler_loss: 0.0033 - transition_loss: 0.0012 - volk_loss: 0.0000e+00 - ricci_loss: 0.0000e+00\n",
      "2/2 [==============================] - ETA: 0s - loss: 0.1136 - sigma_loss: 0.0185 - kaehler_loss: 0.0000e+00 - transition_loss: 0.0000e+00 - volk_loss: 0.0951 - ricci_loss: 0.0000e+00 - Ricci measure val:      0.1329\n",
      "2/2 [==============================] - 3s 1s/step - loss: 0.1136 - sigma_loss: 0.0185 - kaehler_loss: 0.0000e+00 - transition_loss: 0.0000e+00 - volk_loss: 0.0951 - ricci_loss: 0.0000e+00 - ricci_val: 0.1329\n",
      "\n",
      "Epoch 44/50\n",
      "1407/1407 [==============================] - 38s 23ms/step - loss: 0.0214 - sigma_loss: 0.0169 - kaehler_loss: 0.0032 - transition_loss: 0.0012 - volk_loss: 0.0000e+00 - ricci_loss: 0.0000e+00\n",
      "2/2 [==============================] - ETA: 0s - loss: 0.1272 - sigma_loss: 0.0172 - kaehler_loss: 0.0000e+00 - transition_loss: 0.0000e+00 - volk_loss: 0.1100 - ricci_loss: 0.0000e+00 - Ricci measure val:      0.1250\n",
      "2/2 [==============================] - 3s 1s/step - loss: 0.1272 - sigma_loss: 0.0172 - kaehler_loss: 0.0000e+00 - transition_loss: 0.0000e+00 - volk_loss: 0.1100 - ricci_loss: 0.0000e+00 - ricci_val: 0.1250\n",
      "\n",
      "Epoch 45/50\n",
      "1407/1407 [==============================] - 39s 23ms/step - loss: 0.0210 - sigma_loss: 0.0166 - kaehler_loss: 0.0032 - transition_loss: 0.0012 - volk_loss: 0.0000e+00 - ricci_loss: 0.0000e+00\n",
      "2/2 [==============================] - ETA: 0s - loss: 0.0701 - sigma_loss: 0.0203 - kaehler_loss: 0.0000e+00 - transition_loss: 0.0000e+00 - volk_loss: 0.0497 - ricci_loss: 0.0000e+00 - Ricci measure val:      0.1498\n",
      "2/2 [==============================] - 4s 2s/step - loss: 0.0701 - sigma_loss: 0.0203 - kaehler_loss: 0.0000e+00 - transition_loss: 0.0000e+00 - volk_loss: 0.0497 - ricci_loss: 0.0000e+00 - ricci_val: 0.1498\n",
      "\n",
      "Epoch 46/50\n",
      "1407/1407 [==============================] - 40s 24ms/step - loss: 0.0208 - sigma_loss: 0.0164 - kaehler_loss: 0.0032 - transition_loss: 0.0012 - volk_loss: 0.0000e+00 - ricci_loss: 0.0000e+00\n",
      "2/2 [==============================] - ETA: 0s - loss: 0.1102 - sigma_loss: 0.0167 - kaehler_loss: 0.0000e+00 - transition_loss: 0.0000e+00 - volk_loss: 0.0935 - ricci_loss: 0.0000e+00 - Ricci measure val:      0.1177\n",
      "2/2 [==============================] - 3s 1s/step - loss: 0.1102 - sigma_loss: 0.0167 - kaehler_loss: 0.0000e+00 - transition_loss: 0.0000e+00 - volk_loss: 0.0935 - ricci_loss: 0.0000e+00 - ricci_val: 0.1177\n",
      "\n",
      "Epoch 47/50\n",
      "1407/1407 [==============================] - 40s 24ms/step - loss: 0.0201 - sigma_loss: 0.0157 - kaehler_loss: 0.0032 - transition_loss: 0.0012 - volk_loss: 0.0000e+00 - ricci_loss: 0.0000e+00\n",
      "2/2 [==============================] - ETA: 0s - loss: 0.0932 - sigma_loss: 0.0179 - kaehler_loss: 0.0000e+00 - transition_loss: 0.0000e+00 - volk_loss: 0.0753 - ricci_loss: 0.0000e+00 - Ricci measure val:      0.1098\n",
      "2/2 [==============================] - 3s 1s/step - loss: 0.0932 - sigma_loss: 0.0179 - kaehler_loss: 0.0000e+00 - transition_loss: 0.0000e+00 - volk_loss: 0.0753 - ricci_loss: 0.0000e+00 - ricci_val: 0.1098\n",
      "\n",
      "Epoch 48/50\n",
      "1407/1407 [==============================] - 39s 24ms/step - loss: 0.0196 - sigma_loss: 0.0153 - kaehler_loss: 0.0031 - transition_loss: 0.0011 - volk_loss: 0.0000e+00 - ricci_loss: 0.0000e+00\n",
      "2/2 [==============================] - ETA: 0s - loss: 0.1092 - sigma_loss: 0.0141 - kaehler_loss: 0.0000e+00 - transition_loss: 0.0000e+00 - volk_loss: 0.0951 - ricci_loss: 0.0000e+00 - Ricci measure val:      0.1170\n",
      "2/2 [==============================] - 3s 1s/step - loss: 0.1092 - sigma_loss: 0.0141 - kaehler_loss: 0.0000e+00 - transition_loss: 0.0000e+00 - volk_loss: 0.0951 - ricci_loss: 0.0000e+00 - ricci_val: 0.1170\n",
      "\n",
      "Epoch 49/50\n",
      "1407/1407 [==============================] - 40s 24ms/step - loss: 0.0193 - sigma_loss: 0.0150 - kaehler_loss: 0.0031 - transition_loss: 0.0011 - volk_loss: 0.0000e+00 - ricci_loss: 0.0000e+00\n",
      "2/2 [==============================] - ETA: 0s - loss: 0.0887 - sigma_loss: 0.0178 - kaehler_loss: 0.0000e+00 - transition_loss: 0.0000e+00 - volk_loss: 0.0709 - ricci_loss: 0.0000e+00 - Ricci measure val:      0.1311\n",
      "2/2 [==============================] - 3s 1s/step - loss: 0.0887 - sigma_loss: 0.0178 - kaehler_loss: 0.0000e+00 - transition_loss: 0.0000e+00 - volk_loss: 0.0709 - ricci_loss: 0.0000e+00 - ricci_val: 0.1311\n",
      "\n",
      "Epoch 50/50\n",
      "1407/1407 [==============================] - 39s 24ms/step - loss: 0.0188 - sigma_loss: 0.0146 - kaehler_loss: 0.0031 - transition_loss: 0.0011 - volk_loss: 0.0000e+00 - ricci_loss: 0.0000e+00\n",
      "2/2 [==============================] - ETA: 0s - loss: 0.0974 - sigma_loss: 0.0187 - kaehler_loss: 0.0000e+00 - transition_loss: 0.0000e+00 - volk_loss: 0.0786 - ricci_loss: 0.0000e+00 - Ricci measure val:      0.1143\n",
      "2/2 [==============================] - 3s 1s/step - loss: 0.0974 - sigma_loss: 0.0187 - kaehler_loss: 0.0000e+00 - transition_loss: 0.0000e+00 - volk_loss: 0.0786 - ricci_loss: 0.0000e+00 - ricci_val: 0.1143\n"
     ]
    }
   ],
   "source": [
    "nnmetric, training_history = train_model(nnmetric, data, optimizer=opt, epochs=nEpochs, batch_sizes=[64, 50000], \n",
    "                                       verbose=1, custom_metrics=cmetrics, callbacks=cb_list)"
   ]
  },
  {
   "cell_type": "code",
   "execution_count": null,
   "id": "a0ec40b6",
   "metadata": {},
   "outputs": [],
   "source": []
  }
 ],
 "metadata": {
  "kernelspec": {
   "display_name": "Python 3 (ipykernel)",
   "language": "python",
   "name": "python3"
  },
  "language_info": {
   "codemirror_mode": {
    "name": "ipython",
    "version": 3
   },
   "file_extension": ".py",
   "mimetype": "text/x-python",
   "name": "python",
   "nbconvert_exporter": "python",
   "pygments_lexer": "ipython3",
   "version": "3.9.12"
  }
 },
 "nbformat": 4,
 "nbformat_minor": 5
}
